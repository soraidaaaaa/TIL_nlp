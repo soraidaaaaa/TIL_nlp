{
  "nbformat": 4,
  "nbformat_minor": 0,
  "metadata": {
    "colab": {
      "name": "0804_Hashing_trick",
      "provenance": [],
      "collapsed_sections": [],
      "authorship_tag": "ABX9TyPfSZNV/6yIv5dRdN+b4jVA",
      "include_colab_link": true
    },
    "kernelspec": {
      "name": "python3",
      "display_name": "Python 3"
    }
  },
  "cells": [
    {
      "cell_type": "markdown",
      "metadata": {
        "id": "view-in-github",
        "colab_type": "text"
      },
      "source": [
        "<a href=\"https://colab.research.google.com/github/soraidaaaaa/TIL_nlp/blob/master/0804_Hashing_trick.ipynb\" target=\"_parent\"><img src=\"https://colab.research.google.com/assets/colab-badge.svg\" alt=\"Open In Colab\"/></a>"
      ]
    },
    {
      "cell_type": "code",
      "metadata": {
        "id": "8W2myger53em",
        "colab_type": "code",
        "colab": {}
      },
      "source": [
        "# 텐서플로와 머신러닝으로 시작하는 자연어 처리 참고\n",
        "\n",
        "import tensorflow as tf\n",
        "from tensorflow.keras.preprocessing.text import hashing_trick\n",
        "from tensorflow.keras.layers import Input, Embedding, Dense\n",
        "from tensorflow.keras.models import Model\n",
        "from tensorflow.keras.optimizers import Adam\n",
        "import numpy as np\n",
        "\n"
      ],
      "execution_count": 3,
      "outputs": []
    },
    {
      "cell_type": "code",
      "metadata": {
        "id": "PAjvinKP7Pa1",
        "colab_type": "code",
        "colab": {}
      },
      "source": [
        "samples = ['오늘 하루 좋은날 되십시오',\n",
        "           '너무 너무 졸린 날이야',\n",
        "           '오늘 하루 피곤한거 같아',\n",
        "           '나 좋은 일이 생겼어',\n",
        "           '내용이 어려워도 힘내서 공부합시다',\n",
        "           '마지막 문장은 연습용 문장']\n",
        "labels = [[1],[0],[0],[1],[1],[0]]\n",
        "\n"
      ],
      "execution_count": 4,
      "outputs": []
    },
    {
      "cell_type": "code",
      "metadata": {
        "id": "3IMFxv8r7QT8",
        "colab_type": "code",
        "colab": {
          "base_uri": "https://localhost:8080/",
          "height": 125
        },
        "outputId": "d760e314-092e-46dd-9728-9a1da1a1167e"
      },
      "source": [
        "# hash 테이플로 문서를 수치화\n",
        "Vocab_size = 6\n",
        "sequences = [hashing_trick(s, Vocab_size) for s in samples]\n",
        "sequences = np.array(sequences)\n",
        "labels = np.array(labels)\n",
        "print(sequences)"
      ],
      "execution_count": 32,
      "outputs": [
        {
          "output_type": "stream",
          "text": [
            "[[51 62 34 44]\n",
            " [33 33 44  9]\n",
            " [51 62 60 26]\n",
            " [61 31 24 17]\n",
            " [35 52 41 15]\n",
            " [26 48 54  9]]\n"
          ],
          "name": "stdout"
        }
      ]
    },
    {
      "cell_type": "code",
      "metadata": {
        "id": "fIpoCIa67SLh",
        "colab_type": "code",
        "colab": {}
      },
      "source": [
        "# Embedding layer 내부 출력층 개수\n",
        "Emb_size = 8"
      ],
      "execution_count": 25,
      "outputs": []
    },
    {
      "cell_type": "code",
      "metadata": {
        "id": "hCYGDWcS7qHs",
        "colab_type": "code",
        "colab": {}
      },
      "source": [
        "# DL Model\n",
        "\n",
        "xInput = Input(batch_shape=(None, sequences.shape[1]))\n",
        "embed_input = Embedding(input_dim = Vocab_size + 1, output_dim = Emb_size)(xInput)\n",
        "embed_input1 = tf.reduce_mean(embed_input, axis=-1)\n",
        "hidden_layer = Dense(128, activation=tf.nn.relu)(embed_input1)\n",
        "output = Dense(1, activation='sigmoid')(hidden_layer)\n",
        "\n",
        "model = Model(xInput, output)\n",
        "model.compile(loss = 'binary_crossentropy', optimizer=Adam(lr=0.01))\n",
        "\n"
      ],
      "execution_count": 33,
      "outputs": []
    },
    {
      "cell_type": "code",
      "metadata": {
        "id": "AYtol9Ig8ctW",
        "colab_type": "code",
        "colab": {
          "base_uri": "https://localhost:8080/",
          "height": 1000
        },
        "outputId": "b472f5bf-6216-4f72-9e39-0a70740ff2c4"
      },
      "source": [
        "model.fit(sequences, labels, epochs=100)"
      ],
      "execution_count": 34,
      "outputs": [
        {
          "output_type": "stream",
          "text": [
            "Epoch 1/100\n",
            "1/1 [==============================] - 0s 1ms/step - loss: 0.6922\n",
            "Epoch 2/100\n",
            "1/1 [==============================] - 0s 6ms/step - loss: 0.6853\n",
            "Epoch 3/100\n",
            "1/1 [==============================] - 0s 2ms/step - loss: 0.6745\n",
            "Epoch 4/100\n",
            "1/1 [==============================] - 0s 3ms/step - loss: 0.6607\n",
            "Epoch 5/100\n",
            "1/1 [==============================] - 0s 2ms/step - loss: 0.6430\n",
            "Epoch 6/100\n",
            "1/1 [==============================] - 0s 2ms/step - loss: 0.6211\n",
            "Epoch 7/100\n",
            "1/1 [==============================] - 0s 2ms/step - loss: 0.5943\n",
            "Epoch 8/100\n",
            "1/1 [==============================] - 0s 2ms/step - loss: 0.5623\n",
            "Epoch 9/100\n",
            "1/1 [==============================] - 0s 2ms/step - loss: 0.5254\n",
            "Epoch 10/100\n",
            "1/1 [==============================] - 0s 2ms/step - loss: 0.4845\n",
            "Epoch 11/100\n",
            "1/1 [==============================] - 0s 2ms/step - loss: 0.4399\n",
            "Epoch 12/100\n",
            "1/1 [==============================] - 0s 1ms/step - loss: 0.3925\n",
            "Epoch 13/100\n",
            "1/1 [==============================] - 0s 1ms/step - loss: 0.3433\n",
            "Epoch 14/100\n",
            "1/1 [==============================] - 0s 1ms/step - loss: 0.2933\n",
            "Epoch 15/100\n",
            "1/1 [==============================] - 0s 2ms/step - loss: 0.2449\n",
            "Epoch 16/100\n",
            "1/1 [==============================] - 0s 1ms/step - loss: 0.1993\n",
            "Epoch 17/100\n",
            "1/1 [==============================] - 0s 2ms/step - loss: 0.1584\n",
            "Epoch 18/100\n",
            "1/1 [==============================] - 0s 2ms/step - loss: 0.1229\n",
            "Epoch 19/100\n",
            "1/1 [==============================] - 0s 2ms/step - loss: 0.0932\n",
            "Epoch 20/100\n",
            "1/1 [==============================] - 0s 2ms/step - loss: 0.0693\n",
            "Epoch 21/100\n",
            "1/1 [==============================] - 0s 2ms/step - loss: 0.0507\n",
            "Epoch 22/100\n",
            "1/1 [==============================] - 0s 4ms/step - loss: 0.0367\n",
            "Epoch 23/100\n",
            "1/1 [==============================] - 0s 2ms/step - loss: 0.0264\n",
            "Epoch 24/100\n",
            "1/1 [==============================] - 0s 3ms/step - loss: 0.0189\n",
            "Epoch 25/100\n",
            "1/1 [==============================] - 0s 2ms/step - loss: 0.0136\n",
            "Epoch 26/100\n",
            "1/1 [==============================] - 0s 2ms/step - loss: 0.0098\n",
            "Epoch 27/100\n",
            "1/1 [==============================] - 0s 2ms/step - loss: 0.0072\n",
            "Epoch 28/100\n",
            "1/1 [==============================] - 0s 2ms/step - loss: 0.0053\n",
            "Epoch 29/100\n",
            "1/1 [==============================] - 0s 3ms/step - loss: 0.0039\n",
            "Epoch 30/100\n",
            "1/1 [==============================] - 0s 3ms/step - loss: 0.0030\n",
            "Epoch 31/100\n",
            "1/1 [==============================] - 0s 3ms/step - loss: 0.0023\n",
            "Epoch 32/100\n",
            "1/1 [==============================] - 0s 3ms/step - loss: 0.0018\n",
            "Epoch 33/100\n",
            "1/1 [==============================] - 0s 3ms/step - loss: 0.0014\n",
            "Epoch 34/100\n",
            "1/1 [==============================] - 0s 3ms/step - loss: 0.0011\n",
            "Epoch 35/100\n",
            "1/1 [==============================] - 0s 2ms/step - loss: 9.1416e-04\n",
            "Epoch 36/100\n",
            "1/1 [==============================] - 0s 2ms/step - loss: 7.5189e-04\n",
            "Epoch 37/100\n",
            "1/1 [==============================] - 0s 2ms/step - loss: 6.2694e-04\n",
            "Epoch 38/100\n",
            "1/1 [==============================] - 0s 2ms/step - loss: 5.2916e-04\n",
            "Epoch 39/100\n",
            "1/1 [==============================] - 0s 2ms/step - loss: 4.5188e-04\n",
            "Epoch 40/100\n",
            "1/1 [==============================] - 0s 2ms/step - loss: 3.9023e-04\n",
            "Epoch 41/100\n",
            "1/1 [==============================] - 0s 2ms/step - loss: 3.4049e-04\n",
            "Epoch 42/100\n",
            "1/1 [==============================] - 0s 2ms/step - loss: 2.9996e-04\n",
            "Epoch 43/100\n",
            "1/1 [==============================] - 0s 2ms/step - loss: 2.6665e-04\n",
            "Epoch 44/100\n",
            "1/1 [==============================] - 0s 2ms/step - loss: 2.3926e-04\n",
            "Epoch 45/100\n",
            "1/1 [==============================] - 0s 3ms/step - loss: 2.1643e-04\n",
            "Epoch 46/100\n",
            "1/1 [==============================] - 0s 2ms/step - loss: 1.9724e-04\n",
            "Epoch 47/100\n",
            "1/1 [==============================] - 0s 5ms/step - loss: 1.8098e-04\n",
            "Epoch 48/100\n",
            "1/1 [==============================] - 0s 4ms/step - loss: 1.6713e-04\n",
            "Epoch 49/100\n",
            "1/1 [==============================] - 0s 5ms/step - loss: 1.5527e-04\n",
            "Epoch 50/100\n",
            "1/1 [==============================] - 0s 3ms/step - loss: 1.4509e-04\n",
            "Epoch 51/100\n",
            "1/1 [==============================] - 0s 3ms/step - loss: 1.3625e-04\n",
            "Epoch 52/100\n",
            "1/1 [==============================] - 0s 3ms/step - loss: 1.2855e-04\n",
            "Epoch 53/100\n",
            "1/1 [==============================] - 0s 4ms/step - loss: 1.2181e-04\n",
            "Epoch 54/100\n",
            "1/1 [==============================] - 0s 4ms/step - loss: 1.1587e-04\n",
            "Epoch 55/100\n",
            "1/1 [==============================] - 0s 2ms/step - loss: 1.1062e-04\n",
            "Epoch 56/100\n",
            "1/1 [==============================] - 0s 2ms/step - loss: 1.0595e-04\n",
            "Epoch 57/100\n",
            "1/1 [==============================] - 0s 2ms/step - loss: 1.0179e-04\n",
            "Epoch 58/100\n",
            "1/1 [==============================] - 0s 2ms/step - loss: 9.8065e-05\n",
            "Epoch 59/100\n",
            "1/1 [==============================] - 0s 2ms/step - loss: 9.4716e-05\n",
            "Epoch 60/100\n",
            "1/1 [==============================] - 0s 2ms/step - loss: 9.1694e-05\n",
            "Epoch 61/100\n",
            "1/1 [==============================] - 0s 2ms/step - loss: 8.8962e-05\n",
            "Epoch 62/100\n",
            "1/1 [==============================] - 0s 2ms/step - loss: 8.6478e-05\n",
            "Epoch 63/100\n",
            "1/1 [==============================] - 0s 2ms/step - loss: 8.4212e-05\n",
            "Epoch 64/100\n",
            "1/1 [==============================] - 0s 9ms/step - loss: 8.2136e-05\n",
            "Epoch 65/100\n",
            "1/1 [==============================] - 0s 3ms/step - loss: 8.0229e-05\n",
            "Epoch 66/100\n",
            "1/1 [==============================] - 0s 5ms/step - loss: 7.8469e-05\n",
            "Epoch 67/100\n",
            "1/1 [==============================] - 0s 3ms/step - loss: 7.6840e-05\n",
            "Epoch 68/100\n",
            "1/1 [==============================] - 0s 4ms/step - loss: 7.5327e-05\n",
            "Epoch 69/100\n",
            "1/1 [==============================] - 0s 2ms/step - loss: 7.3917e-05\n",
            "Epoch 70/100\n",
            "1/1 [==============================] - 0s 2ms/step - loss: 7.2597e-05\n",
            "Epoch 71/100\n",
            "1/1 [==============================] - 0s 2ms/step - loss: 7.1358e-05\n",
            "Epoch 72/100\n",
            "1/1 [==============================] - 0s 3ms/step - loss: 7.0191e-05\n",
            "Epoch 73/100\n",
            "1/1 [==============================] - 0s 2ms/step - loss: 6.9087e-05\n",
            "Epoch 74/100\n",
            "1/1 [==============================] - 0s 2ms/step - loss: 6.8040e-05\n",
            "Epoch 75/100\n",
            "1/1 [==============================] - 0s 2ms/step - loss: 6.7044e-05\n",
            "Epoch 76/100\n",
            "1/1 [==============================] - 0s 3ms/step - loss: 6.6092e-05\n",
            "Epoch 77/100\n",
            "1/1 [==============================] - 0s 3ms/step - loss: 6.5205e-05\n",
            "Epoch 78/100\n",
            "1/1 [==============================] - 0s 2ms/step - loss: 6.4369e-05\n",
            "Epoch 79/100\n",
            "1/1 [==============================] - 0s 3ms/step - loss: 6.3564e-05\n",
            "Epoch 80/100\n",
            "1/1 [==============================] - 0s 3ms/step - loss: 6.2785e-05\n",
            "Epoch 81/100\n",
            "1/1 [==============================] - 0s 3ms/step - loss: 6.2029e-05\n",
            "Epoch 82/100\n",
            "1/1 [==============================] - 0s 3ms/step - loss: 6.1296e-05\n",
            "Epoch 83/100\n",
            "1/1 [==============================] - 0s 3ms/step - loss: 6.0581e-05\n",
            "Epoch 84/100\n",
            "1/1 [==============================] - 0s 3ms/step - loss: 5.9882e-05\n",
            "Epoch 85/100\n",
            "1/1 [==============================] - 0s 3ms/step - loss: 5.9198e-05\n",
            "Epoch 86/100\n",
            "1/1 [==============================] - 0s 3ms/step - loss: 5.8527e-05\n",
            "Epoch 87/100\n",
            "1/1 [==============================] - 0s 3ms/step - loss: 5.7867e-05\n",
            "Epoch 88/100\n",
            "1/1 [==============================] - 0s 3ms/step - loss: 5.7218e-05\n",
            "Epoch 89/100\n",
            "1/1 [==============================] - 0s 3ms/step - loss: 5.6579e-05\n",
            "Epoch 90/100\n",
            "1/1 [==============================] - 0s 2ms/step - loss: 5.5979e-05\n",
            "Epoch 91/100\n",
            "1/1 [==============================] - 0s 2ms/step - loss: 5.5389e-05\n",
            "Epoch 92/100\n",
            "1/1 [==============================] - 0s 3ms/step - loss: 5.4805e-05\n",
            "Epoch 93/100\n",
            "1/1 [==============================] - 0s 2ms/step - loss: 5.4226e-05\n",
            "Epoch 94/100\n",
            "1/1 [==============================] - 0s 2ms/step - loss: 5.3650e-05\n",
            "Epoch 95/100\n",
            "1/1 [==============================] - 0s 3ms/step - loss: 5.3078e-05\n",
            "Epoch 96/100\n",
            "1/1 [==============================] - 0s 3ms/step - loss: 5.2512e-05\n",
            "Epoch 97/100\n",
            "1/1 [==============================] - 0s 2ms/step - loss: 5.1954e-05\n",
            "Epoch 98/100\n",
            "1/1 [==============================] - 0s 3ms/step - loss: 5.1399e-05\n",
            "Epoch 99/100\n",
            "1/1 [==============================] - 0s 3ms/step - loss: 5.0848e-05\n",
            "Epoch 100/100\n",
            "1/1 [==============================] - 0s 3ms/step - loss: 5.0325e-05\n"
          ],
          "name": "stdout"
        },
        {
          "output_type": "execute_result",
          "data": {
            "text/plain": [
              "<tensorflow.python.keras.callbacks.History at 0x7f05661fd780>"
            ]
          },
          "metadata": {
            "tags": []
          },
          "execution_count": 34
        }
      ]
    },
    {
      "cell_type": "code",
      "metadata": {
        "id": "ih6HP5FH8h8J",
        "colab_type": "code",
        "colab": {
          "base_uri": "https://localhost:8080/",
          "height": 163
        },
        "outputId": "a9b44dd8-c873-4bd2-e97c-df2e32e328a7"
      },
      "source": [
        "pred = model.predict(sequences)\n",
        "print(np.round(pred, 0))"
      ],
      "execution_count": 35,
      "outputs": [
        {
          "output_type": "stream",
          "text": [
            "WARNING:tensorflow:5 out of the last 5 calls to <function Model.make_predict_function.<locals>.predict_function at 0x7f05660ff0d0> triggered tf.function retracing. Tracing is expensive and the excessive number of tracings could be due to (1) creating @tf.function repeatedly in a loop, (2) passing tensors with different shapes, (3) passing Python objects instead of tensors. For (1), please define your @tf.function outside of the loop. For (2), @tf.function has experimental_relax_shapes=True option that relaxes argument shapes that can avoid unnecessary retracing. For (3), please refer to https://www.tensorflow.org/tutorials/customization/performance#python_or_tensor_args and https://www.tensorflow.org/api_docs/python/tf/function for  more details.\n",
            "[[1.]\n",
            " [0.]\n",
            " [0.]\n",
            " [1.]\n",
            " [1.]\n",
            " [0.]]\n"
          ],
          "name": "stdout"
        }
      ]
    }
  ]
}